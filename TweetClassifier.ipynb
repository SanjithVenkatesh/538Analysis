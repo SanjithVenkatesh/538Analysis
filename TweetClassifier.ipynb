{
 "cells": [
  {
   "cell_type": "code",
   "execution_count": 34,
   "metadata": {},
   "outputs": [],
   "source": [
    "# %load ../standard_import.txt\n",
    "import pandas as pd\n",
    "import numpy as np\n",
    "import matplotlib as mpl\n",
    "import matplotlib.pyplot as plt\n",
    "import seaborn as sns\n",
    "\n",
    "from sklearn.preprocessing import scale\n",
    "from sklearn.preprocessing import PolynomialFeatures as pf\n",
    "from sklearn.decomposition import PCA\n",
    "from sklearn.cluster import KMeans\n",
    "from sklearn.linear_model import LinearRegression\n",
    "from sklearn.linear_model import LogisticRegression\n",
    "from sklearn.model_selection import train_test_split\n",
    "from sklearn.feature_extraction.text import TfidfVectorizer\n",
    "from sklearn.pipeline import Pipeline\n",
    "from sklearn.feature_extraction.text import CountVectorizer\n",
    "from sklearn.feature_extraction.text import TfidfTransformer\n",
    "from sklearn.linear_model import SGDClassifier\n",
    "from sklearn.utils import resample\n",
    "from sklearn.model_selection import train_test_split\n",
    "from sklearn.metrics import f1_score\n",
    "\n",
    "from scipy.cluster import hierarchy\n",
    "from sklearn.model_selection import cross_val_predict\n",
    "import sklearn.model_selection as ms\n",
    "\n",
    "import statsmodels.api as sm\n",
    "\n",
    "import re\n",
    "\n",
    "%matplotlib inline\n",
    "plt.style.use('seaborn-whitegrid')"
   ]
  },
  {
   "cell_type": "code",
   "execution_count": 7,
   "metadata": {},
   "outputs": [],
   "source": [
    "bloombergNeg = pd.read_csv(\"data/labels/bloomberg_labels/bloomberg_neg_train.csv\")\n",
    "bloombergPos = pd.read_csv(\"data/labels/bloomberg_labels/bloomberg_pos_train.csv\")\n",
    "bloombergNeu = pd.read_csv(\"data/labels/bloomberg_labels/bloomberg_neu_train.csv\")\n",
    "bloombergTrain = pd.concat([bloombergNeg, bloombergPos, bloombergNeu], ignore_index=True)\n",
    "bloombergTrain = bloombergTrain[['text', 's_label']]"
   ]
  },
  {
   "cell_type": "code",
   "execution_count": 9,
   "metadata": {},
   "outputs": [],
   "source": [
    "sandersNeg = pd.read_csv(\"data/labels/sanders_labels/sanders_neg_train.csv\")\n",
    "sandersPos = pd.read_csv(\"data/labels/sanders_labels/sanders_pos_train.csv\")\n",
    "sandersNeu = pd.read_csv(\"data/labels/sanders_labels/sanders_neu_train.csv\")\n",
    "sandersTrain = pd.concat([sandersNeg, sandersPos, sandersNeu], ignore_index=True)\n",
    "sandersTrain = sandersTrain[['text', 's_label']]"
   ]
  },
  {
   "cell_type": "code",
   "execution_count": 14,
   "metadata": {},
   "outputs": [],
   "source": [
    "buttigegNeg = pd.read_csv(\"data/labels/buttigieg_labels/buttigieg_neg_train.csv\")\n",
    "buttigegPos = pd.read_csv(\"data/labels/buttigieg_labels/buttigieg_pos_train.csv\")\n",
    "buttigegNeu = pd.read_csv(\"data/labels/buttigieg_labels/buttigieg_neu_train.csv\")\n",
    "buttigiegTrain = pd.concat([buttigegNeg, buttigegPos, buttigegNeu], ignore_index=True)\n",
    "buttigiegTrain = buttigieg[['text', 's_label']]"
   ]
  },
  {
   "cell_type": "code",
   "execution_count": 52,
   "metadata": {},
   "outputs": [],
   "source": [
    "buttigiegFull = pd.read_csv(\"data/tweets_full/buttigieg_full.csv\")\n",
    "buttigiegFull = buttigiegFull[['text']]"
   ]
  },
  {
   "cell_type": "code",
   "execution_count": 53,
   "metadata": {},
   "outputs": [
    {
     "data": {
      "text/html": [
       "<div>\n",
       "<style scoped>\n",
       "    .dataframe tbody tr th:only-of-type {\n",
       "        vertical-align: middle;\n",
       "    }\n",
       "\n",
       "    .dataframe tbody tr th {\n",
       "        vertical-align: top;\n",
       "    }\n",
       "\n",
       "    .dataframe thead th {\n",
       "        text-align: right;\n",
       "    }\n",
       "</style>\n",
       "<table border=\"1\" class=\"dataframe\">\n",
       "  <thead>\n",
       "    <tr style=\"text-align: right;\">\n",
       "      <th></th>\n",
       "      <th>text</th>\n",
       "    </tr>\n",
       "  </thead>\n",
       "  <tbody>\n",
       "    <tr>\n",
       "      <td>0</td>\n",
       "      <td>Pete Buttigieg is James Madison reincarnated</td>\n",
       "    </tr>\n",
       "    <tr>\n",
       "      <td>1</td>\n",
       "      <td>More Democrats like this, please: \"A letter fr...</td>\n",
       "    </tr>\n",
       "    <tr>\n",
       "      <td>2</td>\n",
       "      <td>#Bernie fan 16 yrs before it was cool. \\nProgr...</td>\n",
       "    </tr>\n",
       "    <tr>\n",
       "      <td>3</td>\n",
       "      <td>@AbiWilks I like him but I'm pulling for longs...</td>\n",
       "    </tr>\n",
       "    <tr>\n",
       "      <td>4</td>\n",
       "      <td>I have such a crush on Pete Buttigieg.</td>\n",
       "    </tr>\n",
       "    <tr>\n",
       "      <td>...</td>\n",
       "      <td>...</td>\n",
       "    </tr>\n",
       "    <tr>\n",
       "      <td>6156</td>\n",
       "      <td>@DavidCornDC @ewarren Well she wasn't the smar...</td>\n",
       "    </tr>\n",
       "    <tr>\n",
       "      <td>6157</td>\n",
       "      <td>1. Elizabeth Warren\\n2. Julian Castro\\n3. Bern...</td>\n",
       "    </tr>\n",
       "    <tr>\n",
       "      <td>6158</td>\n",
       "      <td>Pete Buttigieg_Thank-You to Supporters https:/...</td>\n",
       "    </tr>\n",
       "    <tr>\n",
       "      <td>6159</td>\n",
       "      <td>Pete Buttigieg Birthday Party in the Cedar Rap...</td>\n",
       "    </tr>\n",
       "    <tr>\n",
       "      <td>6160</td>\n",
       "      <td>My. Vernon Loved Pete Buttigieg !!! https://t....</td>\n",
       "    </tr>\n",
       "  </tbody>\n",
       "</table>\n",
       "<p>6161 rows × 1 columns</p>\n",
       "</div>"
      ],
      "text/plain": [
       "                                                   text\n",
       "0          Pete Buttigieg is James Madison reincarnated\n",
       "1     More Democrats like this, please: \"A letter fr...\n",
       "2     #Bernie fan 16 yrs before it was cool. \\nProgr...\n",
       "3     @AbiWilks I like him but I'm pulling for longs...\n",
       "4                I have such a crush on Pete Buttigieg.\n",
       "...                                                 ...\n",
       "6156  @DavidCornDC @ewarren Well she wasn't the smar...\n",
       "6157  1. Elizabeth Warren\\n2. Julian Castro\\n3. Bern...\n",
       "6158  Pete Buttigieg_Thank-You to Supporters https:/...\n",
       "6159  Pete Buttigieg Birthday Party in the Cedar Rap...\n",
       "6160  My. Vernon Loved Pete Buttigieg !!! https://t....\n",
       "\n",
       "[6161 rows x 1 columns]"
      ]
     },
     "execution_count": 53,
     "metadata": {},
     "output_type": "execute_result"
    }
   ],
   "source": [
    "buttigiegFull"
   ]
  },
  {
   "cell_type": "code",
   "execution_count": 19,
   "metadata": {},
   "outputs": [],
   "source": [
    "def  clean_text(df, text_field):\n",
    "    df[text_field] = df[text_field].str.lower()\n",
    "    df[text_field] = df[text_field].apply(lambda elem: re.sub(r\"(@[A-Za-z0-9]+)|([^0-9A-Za-z \\t])|(\\w+:\\/\\/\\S+)|^rt|http.+?\", \"\", elem))  \n",
    "    return df"
   ]
  },
  {
   "cell_type": "code",
   "execution_count": 23,
   "metadata": {},
   "outputs": [],
   "source": [
    "bloombergTrain = clean_text(bloombergTrain, \"text\")\n",
    "buttigiegTrain = clean_text(buttigiegTrain, \"text\")\n",
    "sandersTrain = clean_text(sandersTrain, \"text\")"
   ]
  },
  {
   "cell_type": "code",
   "execution_count": 26,
   "metadata": {},
   "outputs": [
    {
     "data": {
      "text/html": [
       "<div>\n",
       "<style scoped>\n",
       "    .dataframe tbody tr th:only-of-type {\n",
       "        vertical-align: middle;\n",
       "    }\n",
       "\n",
       "    .dataframe tbody tr th {\n",
       "        vertical-align: top;\n",
       "    }\n",
       "\n",
       "    .dataframe thead th {\n",
       "        text-align: right;\n",
       "    }\n",
       "</style>\n",
       "<table border=\"1\" class=\"dataframe\">\n",
       "  <thead>\n",
       "    <tr style=\"text-align: right;\">\n",
       "      <th></th>\n",
       "      <th>text</th>\n",
       "      <th>s_label</th>\n",
       "    </tr>\n",
       "  </thead>\n",
       "  <tbody>\n",
       "    <tr>\n",
       "      <td>0</td>\n",
       "      <td>bernie sanders campaign accessed hillary clint...</td>\n",
       "      <td>-1</td>\n",
       "    </tr>\n",
       "    <tr>\n",
       "      <td>1</td>\n",
       "      <td>bernie sanders staffer playing dirty against h...</td>\n",
       "      <td>-1</td>\n",
       "    </tr>\n",
       "    <tr>\n",
       "      <td>2</td>\n",
       "      <td>bernie sanders will not get us free college im...</td>\n",
       "      <td>-1</td>\n",
       "    </tr>\n",
       "    <tr>\n",
       "      <td>3</td>\n",
       "      <td>what else did bernie sanders steal in today so...</td>\n",
       "      <td>-1</td>\n",
       "    </tr>\n",
       "    <tr>\n",
       "      <td>4</td>\n",
       "      <td>sorry this bernie sanders data breach has a fu...</td>\n",
       "      <td>-1</td>\n",
       "    </tr>\n",
       "    <tr>\n",
       "      <td>...</td>\n",
       "      <td>...</td>\n",
       "      <td>...</td>\n",
       "    </tr>\n",
       "    <tr>\n",
       "      <td>115</td>\n",
       "      <td>even on our worst days we are all better for t...</td>\n",
       "      <td>0</td>\n",
       "    </tr>\n",
       "    <tr>\n",
       "      <td>116</td>\n",
       "      <td>a rentcontrolled apartment in brooklyn is ever...</td>\n",
       "      <td>0</td>\n",
       "    </tr>\n",
       "    <tr>\n",
       "      <td>117</td>\n",
       "      <td>bernie sanders let me just say that i agree wi...</td>\n",
       "      <td>0</td>\n",
       "    </tr>\n",
       "    <tr>\n",
       "      <td>118</td>\n",
       "      <td>this is a mating call for a young bernie sanders</td>\n",
       "      <td>0</td>\n",
       "    </tr>\n",
       "    <tr>\n",
       "      <td>119</td>\n",
       "      <td>bernie sanders is a human birkenstock snl</td>\n",
       "      <td>0</td>\n",
       "    </tr>\n",
       "  </tbody>\n",
       "</table>\n",
       "<p>120 rows × 2 columns</p>\n",
       "</div>"
      ],
      "text/plain": [
       "                                                  text  s_label\n",
       "0    bernie sanders campaign accessed hillary clint...       -1\n",
       "1    bernie sanders staffer playing dirty against h...       -1\n",
       "2    bernie sanders will not get us free college im...       -1\n",
       "3    what else did bernie sanders steal in today so...       -1\n",
       "4    sorry this bernie sanders data breach has a fu...       -1\n",
       "..                                                 ...      ...\n",
       "115  even on our worst days we are all better for t...        0\n",
       "116  a rentcontrolled apartment in brooklyn is ever...        0\n",
       "117  bernie sanders let me just say that i agree wi...        0\n",
       "118   this is a mating call for a young bernie sanders        0\n",
       "119          bernie sanders is a human birkenstock snl        0\n",
       "\n",
       "[120 rows x 2 columns]"
      ]
     },
     "execution_count": 26,
     "metadata": {},
     "output_type": "execute_result"
    }
   ],
   "source": [
    "sandersTrain"
   ]
  },
  {
   "cell_type": "code",
   "execution_count": 28,
   "metadata": {},
   "outputs": [],
   "source": [
    "pipeline_sgd = Pipeline([\n",
    "    ('vect', CountVectorizer()),\n",
    "    ('tfidf',  TfidfTransformer()),\n",
    "    ('nb', SGDClassifier()),\n",
    "])"
   ]
  },
  {
   "cell_type": "code",
   "execution_count": 32,
   "metadata": {},
   "outputs": [],
   "source": [
    "X_train, X_test, y_train, y_test = train_test_split(sandersTrain['text'],\n",
    "                                                    sandersTrain['s_label'],random_state = 0)"
   ]
  },
  {
   "cell_type": "code",
   "execution_count": 64,
   "metadata": {},
   "outputs": [],
   "source": [
    "model = pipeline_sgd.fit(buttigiegTrain['text'], buttigiegTrain['s_label'])\n",
    "y_predict = model.predict(buttigiegFull['text'])"
   ]
  },
  {
   "cell_type": "code",
   "execution_count": 66,
   "metadata": {},
   "outputs": [
    {
     "data": {
      "text/plain": [
       "6161"
      ]
     },
     "execution_count": 66,
     "metadata": {},
     "output_type": "execute_result"
    }
   ],
   "source": [
    "y_predict"
   ]
  },
  {
   "cell_type": "code",
   "execution_count": 63,
   "metadata": {},
   "outputs": [
    {
     "data": {
      "text/plain": [
       "Pipeline(memory=None,\n",
       "         steps=[('vect',\n",
       "                 CountVectorizer(analyzer='word', binary=False,\n",
       "                                 decode_error='strict',\n",
       "                                 dtype=<class 'numpy.int64'>, encoding='utf-8',\n",
       "                                 input='content', lowercase=True, max_df=1.0,\n",
       "                                 max_features=None, min_df=1,\n",
       "                                 ngram_range=(1, 1), preprocessor=None,\n",
       "                                 stop_words=None, strip_accents=None,\n",
       "                                 token_pattern='(?u)\\\\b\\\\w\\\\w+\\\\b',\n",
       "                                 tokenizer=None, vocabulary=Non...\n",
       "                 SGDClassifier(alpha=0.0001, average=False, class_weight=None,\n",
       "                               early_stopping=False, epsilon=0.1, eta0=0.0,\n",
       "                               fit_intercept=True, l1_ratio=0.15,\n",
       "                               learning_rate='optimal', loss='hinge',\n",
       "                               max_iter=1000, n_iter_no_change=5, n_jobs=None,\n",
       "                               penalty='l2', power_t=0.5, random_state=None,\n",
       "                               shuffle=True, tol=0.001, validation_fraction=0.1,\n",
       "                               verbose=0, warm_start=False))],\n",
       "         verbose=False)"
      ]
     },
     "execution_count": 63,
     "metadata": {},
     "output_type": "execute_result"
    }
   ],
   "source": [
    "model"
   ]
  },
  {
   "cell_type": "code",
   "execution_count": null,
   "metadata": {},
   "outputs": [],
   "source": []
  }
 ],
 "metadata": {
  "kernelspec": {
   "display_name": "Python 3",
   "language": "python",
   "name": "python3"
  },
  "language_info": {
   "codemirror_mode": {
    "name": "ipython",
    "version": 3
   },
   "file_extension": ".py",
   "mimetype": "text/x-python",
   "name": "python",
   "nbconvert_exporter": "python",
   "pygments_lexer": "ipython3",
   "version": "3.7.4"
  }
 },
 "nbformat": 4,
 "nbformat_minor": 2
}
